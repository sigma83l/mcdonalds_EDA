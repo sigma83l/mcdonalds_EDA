{
 "cells": [
  {
   "cell_type": "code",
   "execution_count": 1,
   "id": "13429ec9",
   "metadata": {
    "_cell_guid": "b1076dfc-b9ad-4769-8c92-a6c4dae69d19",
    "_uuid": "8f2839f25d086af736a60e9eeb907d3b93b6e0e5",
    "execution": {
     "iopub.execute_input": "2023-04-17T21:32:11.221783Z",
     "iopub.status.busy": "2023-04-17T21:32:11.221360Z",
     "iopub.status.idle": "2023-04-17T21:32:12.522977Z",
     "shell.execute_reply": "2023-04-17T21:32:12.521267Z"
    },
    "papermill": {
     "duration": 1.310875,
     "end_time": "2023-04-17T21:32:12.525473",
     "exception": true,
     "start_time": "2023-04-17T21:32:11.214598",
     "status": "failed"
    },
    "tags": []
   },
   "outputs": [
    {
     "ename": "NameError",
     "evalue": "name 'data' is not defined",
     "output_type": "error",
     "traceback": [
      "\u001b[0;31m---------------------------------------------------------------------------\u001b[0m",
      "\u001b[0;31mNameError\u001b[0m                                 Traceback (most recent call last)",
      "\u001b[0;32m/tmp/ipykernel_19/3306767361.py\u001b[0m in \u001b[0;36m<module>\u001b[0;34m\u001b[0m\n\u001b[1;32m      8\u001b[0m     \u001b[0;32mfor\u001b[0m \u001b[0mfilename\u001b[0m \u001b[0;32min\u001b[0m \u001b[0mfilenames\u001b[0m\u001b[0;34m:\u001b[0m\u001b[0;34m\u001b[0m\u001b[0;34m\u001b[0m\u001b[0m\n\u001b[1;32m      9\u001b[0m         \u001b[0mdata_list\u001b[0m\u001b[0;34m.\u001b[0m\u001b[0mappend\u001b[0m\u001b[0;34m(\u001b[0m\u001b[0mos\u001b[0m\u001b[0;34m.\u001b[0m\u001b[0mpath\u001b[0m\u001b[0;34m.\u001b[0m\u001b[0mjoin\u001b[0m\u001b[0;34m(\u001b[0m\u001b[0mdirname\u001b[0m\u001b[0;34m,\u001b[0m \u001b[0mfilename\u001b[0m\u001b[0;34m)\u001b[0m\u001b[0;34m)\u001b[0m\u001b[0;34m\u001b[0m\u001b[0;34m\u001b[0m\u001b[0m\n\u001b[0;32m---> 10\u001b[0;31m         \u001b[0mprint\u001b[0m\u001b[0;34m(\u001b[0m\u001b[0mdata\u001b[0m\u001b[0;34m)\u001b[0m\u001b[0;34m\u001b[0m\u001b[0;34m\u001b[0m\u001b[0m\n\u001b[0m\u001b[1;32m     11\u001b[0m \u001b[0mdata\u001b[0m \u001b[0;34m=\u001b[0m \u001b[0mdata_list\u001b[0m\u001b[0;34m[\u001b[0m\u001b[0;36m0\u001b[0m\u001b[0;34m]\u001b[0m\u001b[0;34m\u001b[0m\u001b[0;34m\u001b[0m\u001b[0m\n\u001b[1;32m     12\u001b[0m \u001b[0mdata\u001b[0m \u001b[0;34m=\u001b[0m \u001b[0mpd\u001b[0m\u001b[0;34m.\u001b[0m\u001b[0mread_csv\u001b[0m\u001b[0;34m(\u001b[0m\u001b[0mdata\u001b[0m\u001b[0;34m)\u001b[0m\u001b[0;34m\u001b[0m\u001b[0;34m\u001b[0m\u001b[0m\n",
      "\u001b[0;31mNameError\u001b[0m: name 'data' is not defined"
     ]
    }
   ],
   "source": [
    "import numpy as np # linear algebra\n",
    "import pandas as pd # data processing, CSV file I/O (e.g. pd.read_csv)\n",
    "import matplotlib.pyplot as plt\n",
    "import seaborn as sns\n",
    "import os\n",
    "data_list = []\n",
    "for dirname, _, filenames in os.walk('/kaggle/input'):\n",
    "    for filename in filenames:\n",
    "        data_list.append(os.path.join(dirname, filename))\n",
    "        print(data)\n",
    "data = data_list[0]\n",
    "data = pd.read_csv(data)\n",
    "print(data.columns)\n",
    "catagorical_cols = ['name', 'serving_size', 'ingredients', 'tag', 'allergy', 'description']\n",
    "numerical_cols = ['energy', 'protein', 'total_fat', 'sat_fat', 'trans_fat', 'chol', 'carbs', 'total_sugar', 'added_sugar', 'sodium']\n",
    "data.head()\n",
    "# data.describe()"
   ]
  },
  {
   "cell_type": "code",
   "execution_count": null,
   "id": "02ca00fb",
   "metadata": {
    "execution": {
     "iopub.execute_input": "2023-04-17T19:54:07.841799Z",
     "iopub.status.busy": "2023-04-17T19:54:07.841267Z",
     "iopub.status.idle": "2023-04-17T19:54:07.849402Z",
     "shell.execute_reply": "2023-04-17T19:54:07.848140Z",
     "shell.execute_reply.started": "2023-04-17T19:54:07.841751Z"
    },
    "papermill": {
     "duration": null,
     "end_time": null,
     "exception": null,
     "start_time": null,
     "status": "pending"
    },
    "tags": []
   },
   "outputs": [],
   "source": [
    "for i in numerical_cols:\n",
    "    print(data[i].dtype)\n",
    "print('\\n')\n",
    "for i in catagorical_cols:\n",
    "    print(data[i].dtype)"
   ]
  },
  {
   "cell_type": "code",
   "execution_count": null,
   "id": "fd345773",
   "metadata": {
    "execution": {
     "iopub.execute_input": "2023-04-17T19:54:07.851875Z",
     "iopub.status.busy": "2023-04-17T19:54:07.851191Z",
     "iopub.status.idle": "2023-04-17T19:54:07.945083Z",
     "shell.execute_reply": "2023-04-17T19:54:07.943958Z",
     "shell.execute_reply.started": "2023-04-17T19:54:07.851843Z"
    },
    "papermill": {
     "duration": null,
     "end_time": null,
     "exception": null,
     "start_time": null,
     "status": "pending"
    },
    "tags": []
   },
   "outputs": [],
   "source": [
    "manip_d = data.copy()\n",
    "# serv = manip_d[manip_d['serving_size'].str.contains('g')]['serving_size']\n",
    "# serv\n",
    "numeric_serving_size = manip_d['serving_size'].str.extract('(\\d+)').astype(float)\n",
    "\n",
    "is_ml = manip_d['serving_size'].str.contains('ml')\n",
    "grams_per_ml = 1.04\n",
    "numeric_serving_size.loc[is_ml] *= grams_per_ml\n",
    "numeric_serving_size = manip_d['serving_size'].str.extract('(\\d+)').astype(float)\n",
    "manip_d['serving_size'] = numeric_serving_size\n",
    "# serv\n",
    "manip_d = manip_d.drop('description', axis=1)\n",
    "alergy_list = []\n",
    "for i in manip_d['allergy'].unique():\n",
    "    for j in i.split(','):\n",
    "        if j not in alergy_list:\n",
    "            alergy_list.append(j)\n",
    "cdman_df = pd.get_dummies(manip_d['allergy'])\n",
    "more_allergies = { 'index':range(42),\n",
    "                  'Soya':[0 for _ in range(42)],\n",
    "                  'Egg':[0 for _ in range(42)],\n",
    "                  'Fish':[0 for _ in range(42)],\n",
    "                  'Sulphites':[0 for _ in range(42)],\n",
    "                  'Nuts':[0 for _ in range(42)]}\n",
    "more_allergies = pd.DataFrame(more_allergies) \n",
    "\n",
    "coded_df = pd.concat([cdman_df,more_allergies,manip_d], axis=1)\n",
    "coded_df.drop(['index'], axis=1, inplace=True)\n",
    "coded_df.columns\n",
    "# cdman_d.shape\n",
    "# manip_d.shape\n",
    "for index, row in coded_df.iterrows():\n",
    "    if row['Cereal containing gluten, Milk, Egg, Fish, Soya'] == 1:\n",
    "        coded_df.at[index,'Cereal containing gluten'] = 1\n",
    "        coded_df.at[index,'Milk'] = 1\n",
    "        coded_df.at[index,'Egg'] = 1\n",
    "        coded_df.at[index,'Fish'] = 1\n",
    "        coded_df.at[index,'Soya'] = 1\n",
    "    elif row['Cereal containing gluten, Milk, Egg, Soya'] == 1:\n",
    "        coded_df.at[index,'Cereal containing gluten'] = 1\n",
    "        coded_df.at[index,'Milk'] = 1\n",
    "        coded_df.at[index,'Egg'] = 1\n",
    "        coded_df.at[index,'Soya'] = 1\n",
    "    elif row['Cereal containing gluten, Milk, Nuts'] == 1:\n",
    "        coded_df.at[index,'Cereal containing gluten'] = 1\n",
    "        coded_df.at[index,'Milk'] = 1\n",
    "        coded_df.at[index,'Nuts'] = 1\n",
    "    elif row['Cereal containing gluten, Milk, Soya'] == 1:\n",
    "        coded_df.at[index,'Cereal containing gluten'] = 1\n",
    "        coded_df.at[index,'Milk'] = 1\n",
    "        coded_df.at[index,'Soya'] = 1\n",
    "    elif row['Cereal containing gluten, Milk, Soya, Sulphites'] == 1:\n",
    "        coded_df.at[index,'Cereal containing gluten'] = 1\n",
    "        coded_df.at[index,'Milk'] = 1\n",
    "        coded_df.at[index,'Sulphites'] = 1\n",
    "        coded_df.at[index,'Soya'] = 1\n",
    "    elif row['Milk, Soya'] == 1:\n",
    "        coded_df.at[index,'Milk'] = 1\n",
    "        coded_df.at[index,'Soya'] = 1\n",
    "    else:\n",
    "        continue\n",
    "delete_cols = ['Cereal containing gluten, Milk, Egg, Fish, Soya',\n",
    "'Cereal containing gluten, Milk, Egg, Soya',\n",
    "'Cereal containing gluten, Milk, Nuts',\n",
    "'Cereal containing gluten, Milk, Soya', \n",
    "'Cereal containing gluten, Milk, Soya, Sulphites', \n",
    "'Milk, Soya']\n",
    "coded_df.drop(delete_cols, axis=1, inplace=True)\n",
    "coded_df\n",
    "# alergy_list"
   ]
  },
  {
   "cell_type": "code",
   "execution_count": null,
   "id": "c791e47f",
   "metadata": {
    "execution": {
     "iopub.execute_input": "2023-04-17T19:54:07.948172Z",
     "iopub.status.busy": "2023-04-17T19:54:07.947800Z",
     "iopub.status.idle": "2023-04-17T19:54:07.958324Z",
     "shell.execute_reply": "2023-04-17T19:54:07.957119Z",
     "shell.execute_reply.started": "2023-04-17T19:54:07.948118Z"
    },
    "papermill": {
     "duration": null,
     "end_time": null,
     "exception": null,
     "start_time": null,
     "status": "pending"
    },
    "tags": []
   },
   "outputs": [],
   "source": [
    "clone_df = coded_df.copy()\n",
    "clone_df.drop(['tag'], axis=1, inplace=True)\n",
    "clone_df.columns"
   ]
  },
  {
   "cell_type": "code",
   "execution_count": null,
   "id": "9e7777da",
   "metadata": {
    "execution": {
     "iopub.execute_input": "2023-04-17T19:54:07.960609Z",
     "iopub.status.busy": "2023-04-17T19:54:07.960024Z",
     "iopub.status.idle": "2023-04-17T19:54:07.971875Z",
     "shell.execute_reply": "2023-04-17T19:54:07.970554Z",
     "shell.execute_reply.started": "2023-04-17T19:54:07.960557Z"
    },
    "papermill": {
     "duration": null,
     "end_time": null,
     "exception": null,
     "start_time": null,
     "status": "pending"
    },
    "tags": []
   },
   "outputs": [],
   "source": [
    "ingredients = []\n",
    "# clone_df['ingredients']\n",
    "for i in clone_df['ingredients']:\n",
    "#     print(type(np.), i)\n",
    "    if type(1.2)==type(i):\n",
    "        i=np.nan\n",
    "    else:\n",
    "        \n",
    "        for j in i.split(','):\n",
    "            if j.strip() is not ingredients:\n",
    "                ingredients.append(j.strip())\n",
    "ingredients"
   ]
  },
  {
   "cell_type": "code",
   "execution_count": null,
   "id": "6fe18f88",
   "metadata": {
    "execution": {
     "iopub.execute_input": "2023-04-17T19:54:07.973905Z",
     "iopub.status.busy": "2023-04-17T19:54:07.973426Z",
     "iopub.status.idle": "2023-04-17T19:54:08.023602Z",
     "shell.execute_reply": "2023-04-17T19:54:08.022353Z",
     "shell.execute_reply.started": "2023-04-17T19:54:07.973872Z"
    },
    "papermill": {
     "duration": null,
     "end_time": null,
     "exception": null,
     "start_time": null,
     "status": "pending"
    },
    "tags": []
   },
   "outputs": [],
   "source": [
    "clone_df1 = clone_df.copy()\n",
    "clone_df1.drop(['ingredients', 'allergy'], axis=1, inplace = True)\n",
    "clone_df1 = clone_df1.iloc[:,-11:]\n",
    "clone_df1"
   ]
  },
  {
   "cell_type": "code",
   "execution_count": null,
   "id": "f74293e4",
   "metadata": {
    "execution": {
     "iopub.execute_input": "2023-04-17T19:54:08.025267Z",
     "iopub.status.busy": "2023-04-17T19:54:08.024948Z",
     "iopub.status.idle": "2023-04-17T19:54:08.247652Z",
     "shell.execute_reply": "2023-04-17T19:54:08.246721Z",
     "shell.execute_reply.started": "2023-04-17T19:54:08.025238Z"
    },
    "papermill": {
     "duration": null,
     "end_time": null,
     "exception": null,
     "start_time": null,
     "status": "pending"
    },
    "tags": []
   },
   "outputs": [],
   "source": [
    "def normalizer(dframe, col):\n",
    "    for index, row in clone_df1.iterrows():\n",
    "        val = (row[col]-dframe[col].mean())/(dframe[col].max()-dframe[col].mean())\n",
    "        clone_df1.at[index, str(str(col)+'_rounded')] = np.around(val, decimals=2)\n",
    "    dframe.drop([col],axis=1,inplace=True)\n",
    "for i in clone_df1.columns:\n",
    "    normalizer(clone_df1, i)\n",
    "#     print(clone_df1.iloc[index, 6])\n",
    "#     print(str(val))\n",
    "clone_df1"
   ]
  },
  {
   "cell_type": "code",
   "execution_count": null,
   "id": "335195ec",
   "metadata": {
    "execution": {
     "iopub.execute_input": "2023-04-17T20:24:12.435154Z",
     "iopub.status.busy": "2023-04-17T20:24:12.434761Z",
     "iopub.status.idle": "2023-04-17T20:24:14.271917Z",
     "shell.execute_reply": "2023-04-17T20:24:14.271056Z",
     "shell.execute_reply.started": "2023-04-17T20:24:12.435120Z"
    },
    "papermill": {
     "duration": null,
     "end_time": null,
     "exception": null,
     "start_time": null,
     "status": "pending"
    },
    "tags": []
   },
   "outputs": [],
   "source": [
    "fig, ax = plt.subplots(nrows=3, ncols=4, figsize=(12, 9), gridspec_kw={'height_ratios': [2, 1, 1]})\n",
    "for index,value in enumerate(clone_df1.columns):\n",
    "#     print(clone_df1[value])\n",
    "    ax[index//4, index%4].hist(clone_df1[value], bins=30)\n",
    "    ax[index//4, index%4].set_label(value)\n",
    "plt.tight_layout()\n",
    "plt.show()"
   ]
  },
  {
   "cell_type": "code",
   "execution_count": null,
   "id": "f8d91ed5",
   "metadata": {
    "execution": {
     "iopub.execute_input": "2023-04-17T20:26:29.448241Z",
     "iopub.status.busy": "2023-04-17T20:26:29.447333Z",
     "iopub.status.idle": "2023-04-17T20:26:52.988655Z",
     "shell.execute_reply": "2023-04-17T20:26:52.987521Z",
     "shell.execute_reply.started": "2023-04-17T20:26:29.448190Z"
    },
    "papermill": {
     "duration": null,
     "end_time": null,
     "exception": null,
     "start_time": null,
     "status": "pending"
    },
    "tags": []
   },
   "outputs": [],
   "source": [
    "corr = clone_df1.corr()\n",
    "sns.pairplot(corr)"
   ]
  },
  {
   "cell_type": "code",
   "execution_count": null,
   "id": "4b9e2631",
   "metadata": {
    "execution": {
     "iopub.execute_input": "2023-04-17T21:07:07.948758Z",
     "iopub.status.busy": "2023-04-17T21:07:07.948354Z",
     "iopub.status.idle": "2023-04-17T21:07:07.960620Z",
     "shell.execute_reply": "2023-04-17T21:07:07.959570Z",
     "shell.execute_reply.started": "2023-04-17T21:07:07.948711Z"
    },
    "papermill": {
     "duration": null,
     "end_time": null,
     "exception": null,
     "start_time": null,
     "status": "pending"
    },
    "tags": []
   },
   "outputs": [],
   "source": [
    "rel_tuple_list = []\n",
    "accept_value = corr.mean().mean() + 0.4\n",
    "col = corr.columns\n",
    "for i in col:\n",
    "    for j in col:\n",
    "        if not i==j:\n",
    "            if not (j,i) in rel_tuple_list:\n",
    "                if np.absolute(corr.at[i,j]) > accept_value:\n",
    "                    rel_tuple_list.append((i,j))\n",
    "# len(rel_tuple_list)\n",
    "rel_tuple_list"
   ]
  },
  {
   "cell_type": "code",
   "execution_count": null,
   "id": "6bcd5008",
   "metadata": {
    "execution": {
     "iopub.execute_input": "2023-04-17T21:07:17.048573Z",
     "iopub.status.busy": "2023-04-17T21:07:17.048151Z",
     "iopub.status.idle": "2023-04-17T21:07:17.069537Z",
     "shell.execute_reply": "2023-04-17T21:07:17.068024Z",
     "shell.execute_reply.started": "2023-04-17T21:07:17.048530Z"
    },
    "papermill": {
     "duration": null,
     "end_time": null,
     "exception": null,
     "start_time": null,
     "status": "pending"
    },
    "tags": []
   },
   "outputs": [],
   "source": [
    "important_corr = corr[['energy_rounded', 'protein_rounded', 'total_fat_rounded', 'sat_fat_rounded', 'chol_rounded', 'total_sugar_rounded', 'added_sugar_rounded', 'sodium_rounded']]\n",
    "\n",
    "important_corr.drop(['serving_size_rounded', 'trans_fat_rounded', 'carbs_rounded'],axis=0,inplace=True)\n",
    "important_corr"
   ]
  },
  {
   "cell_type": "code",
   "execution_count": null,
   "id": "54376842",
   "metadata": {
    "execution": {
     "iopub.execute_input": "2023-04-17T21:29:02.454549Z",
     "iopub.status.busy": "2023-04-17T21:29:02.454132Z",
     "iopub.status.idle": "2023-04-17T21:29:03.196224Z",
     "shell.execute_reply": "2023-04-17T21:29:03.195116Z",
     "shell.execute_reply.started": "2023-04-17T21:29:02.454507Z"
    },
    "papermill": {
     "duration": null,
     "end_time": null,
     "exception": null,
     "start_time": null,
     "status": "pending"
    },
    "tags": []
   },
   "outputs": [],
   "source": [
    "fig, ax = plt.subplots(2,4,figsize=(6,8))\n",
    "for index, value in enumerate(important_corr.columns):\n",
    "    ax[index//4, index%4].bar(x=important_corr[value], height=value,color=['violet', 'pink', 'indigo', 'blue', 'green', 'yellow', 'orange', 'red'], width=0.04)"
   ]
  }
 ],
 "metadata": {
  "kernelspec": {
   "display_name": "Python 3",
   "language": "python",
   "name": "python3"
  },
  "language_info": {
   "codemirror_mode": {
    "name": "ipython",
    "version": 3
   },
   "file_extension": ".py",
   "mimetype": "text/x-python",
   "name": "python",
   "nbconvert_exporter": "python",
   "pygments_lexer": "ipython3",
   "version": "3.7.12"
  },
  "papermill": {
   "default_parameters": {},
   "duration": 13.160275,
   "end_time": "2023-04-17T21:32:12.752116",
   "environment_variables": {},
   "exception": true,
   "input_path": "__notebook__.ipynb",
   "output_path": "__notebook__.ipynb",
   "parameters": {},
   "start_time": "2023-04-17T21:31:59.591841",
   "version": "2.4.0"
  }
 },
 "nbformat": 4,
 "nbformat_minor": 5
}
